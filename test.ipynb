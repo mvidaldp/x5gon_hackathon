{
 "cells": [
  {
   "cell_type": "code",
   "execution_count": 1,
   "metadata": {},
   "outputs": [
    {
     "name": "stdout",
     "output_type": "stream",
     "text": [
      "rm: cannot remove 'x5gon_catelogue.tsv*': No such file or directory\n",
      "rm: cannot remove 'x5gon_user_data.psv': No such file or directory\n",
      "mkdir: cannot create directory ‘datasets’: File exists\n",
      "--2020-02-25 10:27:50--  https://gitlab.univ-nantes.fr/x5gon/x5gon-hackathon-datasets/raw/master/datasets/x5gon_catelogue.tsv\n",
      "Loaded CA certificate '/etc/ssl/certs/ca-certificates.crt'\n",
      "Resolving gitlab.univ-nantes.fr (gitlab.univ-nantes.fr)... 193.52.101.66\n",
      "Connecting to gitlab.univ-nantes.fr (gitlab.univ-nantes.fr)|193.52.101.66|:443... connected.\n",
      "HTTP request sent, awaiting response... 200 OK\n",
      "Length: 63850145 (61M) [text/plain]\n",
      "Saving to: ‘x5gon_catelogue.tsv’\n",
      "\n",
      "x5gon_catelogue.tsv 100%[===================>]  60.89M  13.6MB/s    in 4.8s    \n",
      "\n",
      "2020-02-25 10:27:56 (12.7 MB/s) - ‘x5gon_catelogue.tsv’ saved [63850145/63850145]\n",
      "\n",
      "--2020-02-25 10:27:56--  https://gitlab.univ-nantes.fr/x5gon/x5gon-hackathon-datasets/raw/master/datasets/x5gon_user_data.psv\n",
      "Loaded CA certificate '/etc/ssl/certs/ca-certificates.crt'\n",
      "Resolving gitlab.univ-nantes.fr (gitlab.univ-nantes.fr)... 193.52.101.66\n",
      "Connecting to gitlab.univ-nantes.fr (gitlab.univ-nantes.fr)|193.52.101.66|:443... connected.\n",
      "HTTP request sent, awaiting response... 200 OK\n",
      "Length: 255593745 (244M) [text/plain]\n",
      "Saving to: ‘x5gon_user_data.psv’\n",
      "\n",
      "x5gon_user_data.psv 100%[===================>] 243.75M  6.46MB/s    in 35s     \n",
      "\n",
      "2020-02-25 10:28:35 (6.92 MB/s) - ‘x5gon_user_data.psv’ saved [255593745/255593745]\n",
      "\n"
     ]
    }
   ],
   "source": [
    "! rm x5gon_catelogue.tsv*\n",
    "! rm x5gon_user_data.psv\n",
    "! mkdir datasets\n",
    "! wget https://gitlab.univ-nantes.fr/x5gon/x5gon-hackathon-datasets/raw/master/datasets/x5gon_catelogue.tsv\n",
    "! wget https://gitlab.univ-nantes.fr/x5gon/x5gon-hackathon-datasets/raw/master/datasets/x5gon_user_data.psv\n",
    "! mv x5gon_catelogue.tsv datasets/catalogue.tsv\n",
    "! mv x5gon_user_data.psv datasets/user_data.psv"
   ]
  },
  {
   "cell_type": "code",
   "execution_count": null,
   "metadata": {},
   "outputs": [],
   "source": []
  }
 ],
 "metadata": {
  "kernelspec": {
   "display_name": "x5gon_hackathon",
   "language": "python",
   "name": "x5gon_hackathon"
  },
  "language_info": {
   "codemirror_mode": {
    "name": "ipython",
    "version": 3
   },
   "file_extension": ".py",
   "mimetype": "text/x-python",
   "name": "python",
   "nbconvert_exporter": "python",
   "pygments_lexer": "ipython3",
   "version": "3.8.1"
  }
 },
 "nbformat": 4,
 "nbformat_minor": 4
}
