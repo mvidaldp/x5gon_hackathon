{
 "cells": [
  {
   "cell_type": "code",
   "execution_count": 1,
   "metadata": {},
   "outputs": [],
   "source": [
    "import pandas as pd # for easy and effective catalogue manipulation\n",
    "import requests # for dealing with API\n",
    "import json\n",
    "from ibm_watson import AssistantV2\n",
    "from ibm_cloud_sdk_core.authenticators import IAMAuthenticator\n",
    "import visJS2jupyter.visJS_module\n",
    "import networkx as nx\n",
    "import matplotlib.pyplot as plt"
   ]
  },
  {
   "cell_type": "code",
   "execution_count": 3,
   "metadata": {},
   "outputs": [
    {
     "name": "stdout",
     "output_type": "stream",
     "text": [
      "rm: cannot remove 'x5gon_catelogue.tsv*': No such file or directory\n",
      "--2020-02-25 10:35:38--  https://gitlab.univ-nantes.fr/x5gon/x5gon-hackathon-datasets/raw/master/datasets/x5gon_catelogue.tsv\n",
      "Loaded CA certificate '/etc/ssl/certs/ca-certificates.crt'\n",
      "Resolving gitlab.univ-nantes.fr (gitlab.univ-nantes.fr)... 193.52.101.66\n",
      "Connecting to gitlab.univ-nantes.fr (gitlab.univ-nantes.fr)|193.52.101.66|:443... connected.\n",
      "HTTP request sent, awaiting response... 200 OK\n",
      "Length: 63850145 (61M) [text/plain]\n",
      "Saving to: ‘x5gon_catelogue.tsv’\n",
      "\n",
      "x5gon_catelogue.tsv 100%[===================>]  60.89M  1.16MB/s    in 41s     \n",
      "\n",
      "2020-02-25 10:36:20 (1.50 MB/s) - ‘x5gon_catelogue.tsv’ saved [63850145/63850145]\n",
      "\n"
     ]
    }
   ],
   "source": [
    "! rm x5gon_catelogue.tsv*\n",
    "! mkdir datasets\n",
    "! wget https://gitlab.univ-nantes.fr/x5gon/x5gon-hackathon-datasets/raw/master/datasets/x5gon_catelogue.tsv\n",
    "! mv x5gon_catelogue.tsv datasets/catalogue.tsv"
   ]
  },
  {
   "cell_type": "code",
   "execution_count": 21,
   "metadata": {},
   "outputs": [
    {
     "name": "stdout",
     "output_type": "stream",
     "text": [
      "Defaulting to user installation because normal site-packages is not writeable\n",
      "Collecting ibm-watson>=4.2.1\n",
      "  Downloading ibm-watson-4.3.0.tar.gz (360 kB)\n",
      "\u001b[K     |████████████████████████████████| 360 kB 2.4 MB/s eta 0:00:01\n",
      "\u001b[?25hRequirement already satisfied, skipping upgrade: requests<3.0,>=2.0 in /usr/lib/python3.7/site-packages (from ibm-watson>=4.2.1) (2.21.0)\n",
      "Requirement already satisfied, skipping upgrade: python_dateutil>=2.5.3 in /usr/lib/python3.7/site-packages (from ibm-watson>=4.2.1) (2.8.0)\n",
      "Requirement already satisfied, skipping upgrade: websocket-client==0.48.0 in /usr/lib/python3.7/site-packages (from ibm-watson>=4.2.1) (0.48.0)\n",
      "Collecting ibm_cloud_sdk_core==1.5.1\n",
      "  Downloading ibm-cloud-sdk-core-1.5.1.tar.gz (25 kB)\n",
      "Requirement already satisfied, skipping upgrade: chardet>=3.0.2 in /usr/lib/python3.7/site-packages (from requests<3.0,>=2.0->ibm-watson>=4.2.1) (3.0.4)\n",
      "Requirement already satisfied, skipping upgrade: idna>=2.5 in /usr/lib/python3.7/site-packages (from requests<3.0,>=2.0->ibm-watson>=4.2.1) (2.8)\n",
      "Requirement already satisfied, skipping upgrade: urllib3>=1.21.1 in /usr/lib/python3.7/site-packages (from requests<3.0,>=2.0->ibm-watson>=4.2.1) (1.24.1)\n",
      "Requirement already satisfied, skipping upgrade: six>=1.5 in /usr/lib/python3.7/site-packages (from python_dateutil>=2.5.3->ibm-watson>=4.2.1) (1.12.0)\n",
      "Collecting PyJWT>=1.7.1\n",
      "  Downloading PyJWT-1.7.1-py2.py3-none-any.whl (18 kB)\n",
      "Building wheels for collected packages: ibm-watson, ibm-cloud-sdk-core\n",
      "  Building wheel for ibm-watson (setup.py) ... \u001b[?25ldone\n",
      "\u001b[?25h  Created wheel for ibm-watson: filename=ibm_watson-4.3.0-py3-none-any.whl size=354168 sha256=689e79ee4804122726fa83b53111e801345f3ce5d00bcbf8eaa06f51ce93561a\n",
      "  Stored in directory: /home/odrec/.cache/pip/wheels/2c/e7/02/3ed9f7fcbaf5fbd036d80ca4eaf27721621ee4524450cadd13\n",
      "  Building wheel for ibm-cloud-sdk-core (setup.py) ... \u001b[?25ldone\n",
      "\u001b[?25h  Created wheel for ibm-cloud-sdk-core: filename=ibm_cloud_sdk_core-1.5.1-py3-none-any.whl size=44488 sha256=54ac6e2d698c1ac056c01b2a04f7e6bf9fc25698062ccad26ec921b18cdfd95d\n",
      "  Stored in directory: /home/odrec/.cache/pip/wheels/51/37/f5/0532ca77cb49d7405e309bb16e3bf3fd4488baabf0f326c63d\n",
      "Successfully built ibm-watson ibm-cloud-sdk-core\n",
      "Installing collected packages: PyJWT, ibm-cloud-sdk-core, ibm-watson\n",
      "\u001b[33m  WARNING: The script pyjwt is installed in '/home/odrec/.local/bin' which is not on PATH.\n",
      "  Consider adding this directory to PATH or, if you prefer to suppress this warning, use --no-warn-script-location.\u001b[0m\n",
      "Successfully installed PyJWT-1.7.1 ibm-cloud-sdk-core-1.5.1 ibm-watson-4.3.0\n"
     ]
    }
   ],
   "source": [
    "! pip install --upgrade \"ibm-watson>=4.2.1\""
   ]
  },
  {
   "cell_type": "code",
   "execution_count": 93,
   "metadata": {},
   "outputs": [
    {
     "name": "stdout",
     "output_type": "stream",
     "text": [
      "Defaulting to user installation because normal site-packages is not writeable\n",
      "Requirement already satisfied: visJS2jupyter in /home/odrec/.local/lib/python3.7/site-packages (0.1.16)\n",
      "Defaulting to user installation because normal site-packages is not writeable\n",
      "Requirement already satisfied: python-louvain in /home/odrec/.local/lib/python3.7/site-packages (0.13)\n",
      "Requirement already satisfied: networkx in /usr/lib/python3.7/site-packages (from python-louvain) (2.2)\n",
      "Requirement already satisfied: decorator>=4.3.0 in /usr/lib/python3.7/site-packages (from networkx->python-louvain) (4.4.0)\n",
      "Defaulting to user installation because normal site-packages is not writeable\n",
      "Collecting py_d3\n",
      "  Downloading py_d3-0.3.0.tar.gz (3.6 kB)\n",
      "Requirement already satisfied: ipython in /usr/lib/python3.7/site-packages (from py_d3) (7.3.0)\n",
      "Building wheels for collected packages: py-d3\n",
      "  Building wheel for py-d3 (setup.py) ... \u001b[?25ldone\n",
      "\u001b[?25h  Created wheel for py-d3: filename=py_d3-0.3.0-py3-none-any.whl size=4330 sha256=6101d88dfe3e7b6c4cecc59741dc3bc812cdb085bcdb618b29297c7dd8c25a2c\n",
      "  Stored in directory: /home/odrec/.cache/pip/wheels/dd/2a/20/2252a7a30ce76461b8dc7af5a7537b3c32e3cc7247a54c92da\n",
      "Successfully built py-d3\n",
      "Installing collected packages: py-d3\n",
      "Successfully installed py-d3-0.3.0\n"
     ]
    }
   ],
   "source": [
    "! pip install visJS2jupyter\n",
    "! pip install python-louvain\n",
    "! pip install py_d3"
   ]
  },
  {
   "cell_type": "code",
   "execution_count": 2,
   "metadata": {},
   "outputs": [],
   "source": [
    "list_parser = lambda x: x[1:-1].split(',')\n",
    "catalogue = pd.read_csv(\"datasets/catalogue.tsv\",\n",
    "                        sep=\"\\t\",\n",
    "                        converters={'keywords': list_parser,\n",
    "                                    \"concepts\": list_parser})\n",
    "# This is added in case initial dataset hasn't the right columns names:\n",
    "catalogue.columns = ['id', 'title', 'language', 'type', 'keywords', 'concepts']\n",
    "catalogue.set_index(\"id\", inplace=True)"
   ]
  },
  {
   "cell_type": "code",
   "execution_count": 99,
   "metadata": {},
   "outputs": [
    {
     "name": "stdout",
     "output_type": "stream",
     "text": [
      "--2020-02-25 15:37:19--  https://gitlab.univ-nantes.fr/x5gon/x5gon-hackathon-datasets/raw/master/datasets/x5gon_user_data.psv\n",
      "Loaded CA certificate '/etc/ssl/certs/ca-certificates.crt'\n",
      "Resolving gitlab.univ-nantes.fr (gitlab.univ-nantes.fr)... 193.52.101.66\n",
      "Connecting to gitlab.univ-nantes.fr (gitlab.univ-nantes.fr)|193.52.101.66|:443... connected.\n",
      "HTTP request sent, awaiting response... 200 OK\n",
      "Length: 255593745 (244M) [text/plain]\n",
      "Saving to: ‘x5gon_user_data.psv’\n",
      "\n",
      "x5gon_user_data.psv 100%[===================>] 243.75M  1.67MB/s    in 3m 3s   \n",
      "\n",
      "2020-02-25 15:40:26 (1.33 MB/s) - ‘x5gon_user_data.psv’ saved [255593745/255593745]\n",
      "\n"
     ]
    }
   ],
   "source": [
    "! wget https://gitlab.univ-nantes.fr/x5gon/x5gon-hackathon-datasets/raw/master/datasets/x5gon_user_data.psv\n",
    "! mv x5gon_user_data.psv datasets/user_data.psv"
   ]
  },
  {
   "cell_type": "code",
   "execution_count": 4,
   "metadata": {},
   "outputs": [],
   "source": [
    "authenticator = IAMAuthenticator('1_EAWNCSIlEhv8ipZPaMhu1_mKLC2KZL6WrUoAwEYj4T')\n",
    "assistant = AssistantV2(\n",
    "    version='2019-02-28',\n",
    "    authenticator=authenticator\n",
    ")\n",
    "\n",
    "assistant.set_service_url('https://api.eu-de.assistant.watson.cloud.ibm.com/instances/65c8de3a-d320-4c22-9d5f-9d4fbcc4a415')"
   ]
  },
  {
   "cell_type": "code",
   "execution_count": null,
   "metadata": {},
   "outputs": [
    {
     "name": "stdout",
     "output_type": "stream",
     "text": [
      "Hello, nice to meet you. How are you?\n",
      "Ali:\n",
      "I'm fine :)\n",
      "\n",
      "Communicator:\n",
      "Great! How can I help you?\n",
      "\n",
      "Ali:\n",
      "I want to learn about neural networks\n",
      "\n",
      "Communicator:\n",
      "I see you are interested in neural networks?\n",
      "\n",
      "Ali:\n",
      "thinking about it better, perceptron could be better for starters\n",
      "\n",
      "Communicator:\n",
      "Do I see correctly that you are interested in perceptron?\n",
      "\n",
      "Ali:\n"
     ]
    }
   ],
   "source": [
    "response = assistant.create_session(\n",
    "    assistant_id='97ca7bbc-4958-416a-945f-2896292b368c'\n",
    ").get_result()\n",
    "\n",
    "\n",
    "sess_id = response['session_id']\n",
    "\n",
    "PLATFORM_URL = \"https://platform.x5gon.org/api/v1/\"\n",
    "function = \"search/\"\n",
    "parameter = \"text=\"\n",
    "query = \"\"\n",
    "\n",
    "# The X5GON API is available at: \n",
    "PLATFORM_LAM_URL = \"http://wp3.x5gon.org/\"\n",
    "HEADERS = {\n",
    "    'accept': 'application/json',\n",
    "    'Content-Type': 'application/json',\n",
    "}\n",
    "rid = 44900\n",
    "\n",
    "list_parser = lambda x: x[1:-1].split(\"|\")\n",
    "users = pd.read_csv(\n",
    "    \"datasets/user_data.psv\",\n",
    "    sep=\"|\",\n",
    "    converters={\"keywords\": list_parser, \"concepts\": list_parser},\n",
    ")\n",
    "# This is added in case initial dataset hasn't the right columns names:\n",
    "users.columns = [\"id\", \"url\", \"timestamp\"]\n",
    "users.set_index(\"timestamp\", inplace=True)\n",
    "users.head(20)\n",
    "\n",
    "response = assistant.message(\n",
    "    assistant_id='97ca7bbc-4958-416a-945f-2896292b368c',\n",
    "    session_id=sess_id,\n",
    "    input={\n",
    "        'message_type': 'text',\n",
    "        'text': query\n",
    "    }).get_result()\n",
    "print(response['output']['generic'][0]['text'])\n",
    "\n",
    "print(\"Ali:\")\n",
    "query = input()\n",
    "flag = False\n",
    "while True:\n",
    "\n",
    "    response = assistant.message(\n",
    "        assistant_id='97ca7bbc-4958-416a-945f-2896292b368c',\n",
    "        session_id=sess_id,\n",
    "        input={\n",
    "            'message_type': 'text',\n",
    "            'text': query\n",
    "        }\n",
    "    ).get_result()\n",
    "    \n",
    "    \n",
    "    if response['output']['entities']:\n",
    "        entities = response['output']['entities']\n",
    "        entity = entities[0]['entity']\n",
    "        \n",
    "    if response['output']['intents']:\n",
    "        intents = response['output']['intents']\n",
    "        intent = intents[0]['intent']\n",
    "    \n",
    "    if intent == 'positive_sure':\n",
    "        keyword = entities[0]['value']\n",
    "\n",
    "        PLATFORM_URL = \"https://platform.x5gon.org/api/v1/\"\n",
    "        function = \"search/\"\n",
    "        parameter = \"text=\"\n",
    "        keyword = \"perceptron\"\n",
    "        response = requests.get(PLATFORM_URL + function + \"?\" + parameter + keyword)\n",
    "        r_json = response.json()\n",
    "\n",
    "        # store query results in a dict of dicts {material_d: {material_data}}\n",
    "        # also remove duplicates by comparing material descriptions\n",
    "        materials = {}\n",
    "        for result in r_json[\"rec_materials\"]:\n",
    "            materials[result[\"material_id\"]] = result\n",
    "            materials[result[\"material_id\"]].pop(\"material_id\", None)\n",
    "\n",
    "        df_materials = pd.DataFrame(materials)\n",
    "        df_materials = df_materials.T\n",
    "        df_materials\n",
    "        flag = True\n",
    "    if not flag:\n",
    "        print(\"\\nCommunicator:\")\n",
    "        print(response['output']['generic'][0]['text'])\n",
    "        if response['output']['entities']:\n",
    "            entities = response['output']['entities']\n",
    "            entity = entities[0]['entity']\n",
    "\n",
    "        titles = []\n",
    "        titles_k = []\n",
    "      \n",
    "        print(\"\\nAli:\")\n",
    "        query = input()\n",
    "    else: break\n",
    "    \n",
    "for key in df_materials.index:\n",
    "    res = users[users.url == key].id\n",
    "    if not res.empty:\n",
    "        #print(f\"The material {key} - {materials[key]['title']} was accessed by:\")\n",
    "        users_list = list(users[users.url == key].id.values)\n",
    "        #print(users[users.url == key].id.values)\n",
    "        #print(\"\")\n",
    "\n",
    "\n",
    "#Due to problems with IBM Watson Assistant V2 API where no context is shown in the response, it's difficult \n",
    "#to send user-defined info back and forth. For now the dialog from here is hard-coded\n",
    "print(\"Communicator:\")\n",
    "print(\"The users\", users_list[0], users_list[1], users_list[2])\n",
    "print(\"Have similar interests to you and would you like me to connect \\\n",
    "you to them so that you can exchange knowledge and maybe create a new learning community around the subject?\")\n",
    "print(\"Ali:\")\n",
    "query = input()\n",
    "    \n"
   ]
  }
 ],
 "metadata": {
  "kernelspec": {
   "display_name": "Python 3",
   "language": "python",
   "name": "python3"
  },
  "language_info": {
   "codemirror_mode": {
    "name": "ipython",
    "version": 3
   },
   "file_extension": ".py",
   "mimetype": "text/x-python",
   "name": "python",
   "nbconvert_exporter": "python",
   "pygments_lexer": "ipython3",
   "version": "3.7.3"
  }
 },
 "nbformat": 4,
 "nbformat_minor": 2
}
